{
 "cells": [
  {
   "cell_type": "code",
   "execution_count": 7,
   "metadata": {},
   "outputs": [
    {
     "name": "stdout",
     "output_type": "stream",
     "text": [
      "            Fechamento  Fechamento Anterior  Variação Percentual\n",
      "Data                                                            \n",
      "2024-01-01   43.349592                  NaN                  NaN\n",
      "2024-01-02   37.445065            43.349592           -13.620721\n",
      "2024-01-03   21.417015            37.445065           -42.804173\n",
      "2024-01-04   32.054469            21.417015            49.668239\n",
      "2024-01-05   41.101140            32.054469            28.222807\n",
      "2024-01-06   35.325741            41.101140           -14.051677\n",
      "2024-01-07   42.003121            35.325741            18.902307\n",
      "2024-01-08   21.740728            42.003121           -48.240207\n",
      "2024-01-09   45.621657            21.740728           109.844200\n",
      "2024-01-10   35.492028            45.621657           -22.203553\n"
     ]
    }
   ],
   "source": [
    "import pandas as pd\n",
    "import numpy as np\n",
    "\n",
    "# Criando um dataframe fictício com dados diários\n",
    "data = {\n",
    "    'Data': pd.date_range(start='2024-01-01', periods=10),\n",
    "    'Fechamento': np.random.uniform(20, 50, size=10)\n",
    "}\n",
    "\n",
    "df = pd.DataFrame(data)\n",
    "df.set_index('Data', inplace=True)\n",
    "\n",
    "# Calculando a variação percentual do Fechamento\n",
    "df['Fechamento Anterior'] = df['Fechamento'].shift(1)\n",
    "df['Variação Percentual'] = ((df['Fechamento'] - df['Fechamento Anterior']) / df['Fechamento Anterior']) * 100\n",
    "\n",
    "# Exibindo o DataFrame\n",
    "print(df)\n"
   ]
  }
 ],
 "metadata": {
  "kernelspec": {
   "display_name": "Python 3 (ipykernel)",
   "language": "python",
   "name": "python3"
  },
  "language_info": {
   "codemirror_mode": {
    "name": "ipython",
    "version": 3
   },
   "file_extension": ".py",
   "mimetype": "text/x-python",
   "name": "python",
   "nbconvert_exporter": "python",
   "pygments_lexer": "ipython3",
   "version": "3.11.5"
  }
 },
 "nbformat": 4,
 "nbformat_minor": 4
}
