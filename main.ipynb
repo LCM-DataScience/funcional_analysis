{
 "cells": [
  {
   "cell_type": "code",
   "execution_count": 2,
   "metadata": {},
   "outputs": [
    {
     "name": "stderr",
     "output_type": "stream",
     "text": [
      "[*********************100%%**********************]  1 of 1 completed"
     ]
    },
    {
     "name": "stdout",
     "output_type": "stream",
     "text": [
      "Exemplo de filtro por datas usando.loc():\n",
      "                Open     Close\n",
      "Date                          \n",
      "2024-03-22  128159.0  127027.0\n",
      "2024-03-25  127027.0  126931.0\n",
      "2024-03-26  126931.0  126863.0\n",
      "2024-03-27  126863.0  127691.0\n",
      "2024-03-28  127689.0  128106.0\n",
      "\n",
      "Exemplo de filtro por índices usando.iloc():\n",
      "                Open      High       Low     Close   Volume\n",
      "Date                                                       \n",
      "2024-03-22  128159.0  128159.0  126879.0  127027.0  9367800\n",
      "2024-03-25  127027.0  127224.0  126750.0  126931.0  8060500\n",
      "2024-03-26  126931.0  127193.0  126591.0  126863.0  9435700\n",
      "2024-03-27  126863.0  127756.0  126223.0  127691.0  9918200\n",
      "2024-03-28  127689.0  128364.0  127270.0  128106.0  9943400\n",
      "\n",
      "Exemplo de deslocamento de coluna usando.shift():\n",
      "                Open     Close  Close_shifted_1\n",
      "Date                                           \n",
      "2024-03-22  128159.0  127027.0         128159.0\n",
      "2024-03-25  127027.0  126931.0         127027.0\n",
      "2024-03-26  126931.0  126863.0         126931.0\n",
      "2024-03-27  126863.0  127691.0         126863.0\n",
      "2024-03-28  127689.0  128106.0         127691.0\n"
     ]
    },
    {
     "name": "stderr",
     "output_type": "stream",
     "text": [
      "\n"
     ]
    }
   ],
   "source": [
    "import pandas as pd\n",
    "import yfinance as yf\n",
    "from functions import process_data, read_extensions\n",
    "import datetime\n",
    "\n",
    "# Função de leitura da biblioteca Yahoo Finance\n",
    "def get_yahoo_finance_data(symbol, start_date, end_date):\n",
    "    try:\n",
    "        data = yf.download(symbol, start=start_date, end=end_date, auto_adjust=True)\n",
    "        return data\n",
    "    except Exception as e:\n",
    "        print(f\"Erro ao buscar dados do Yahoo Finance: {e}\")\n",
    "        return None\n",
    "\n",
    "# Função atualizada com o método .ffill() e yfinance\n",
    "def main():\n",
    "    # Na variável abaixo \"data_source\", escolha entre 'local' ou 'yahoo'\n",
    "    data_source = 'yahoo'\n",
    "    START_DATE = datetime.date(2024, 3, 1)\n",
    "    END_DATE = datetime.date(2024, 3, 31)\n",
    "    \n",
    "    if data_source == 'yahoo':\n",
    "        symbol = \"^BVSP\"\n",
    "        data = get_yahoo_finance_data(symbol, START_DATE.strftime('%Y-%m-%d'), END_DATE.strftime('%Y-%m-%d'))\n",
    "    elif data_source == 'local':\n",
    "        file_path = \"H:\\\\TCD\\\\_PMF\\\\Mod_2_Data_Handling\\\\00\\\\PETR4.csv\"\n",
    "        data = read_extensions.read_csv(file_path)\n",
    "    else:\n",
    "        print(\"Fonte de dados inválida.\")\n",
    "        return\n",
    "    \n",
    "    if data is not None:\n",
    "        df_handled = process_data.handle_missing(data, method='ffill')\n",
    "        \n",
    "        # Filtro usando .loc()\n",
    "        filtered_data_loc = process_data.filter_by_date(df_handled, start_date=START_DATE, end_date=END_DATE, columns=['Open', 'Close'])\n",
    "        print(\"Exemplo de filtro por datas usando.loc():\")\n",
    "        print(filtered_data_loc.tail())\n",
    "        \n",
    "        # Calcular índices para o intervalo de datas\n",
    "        start_index = df_handled.index.searchsorted(pd.to_datetime(START_DATE))\n",
    "        end_index = df_handled.index.searchsorted(pd.to_datetime(END_DATE), side='right')\n",
    "        \n",
    "        # Filtro usando .iloc()\n",
    "        filtered_data_iloc = process_data.filter_by_index(df_handled, start_index=start_index, end_index=end_index, columns=None)\n",
    "        print(\"\\nExemplo de filtro por índices usando.iloc():\")\n",
    "        print(filtered_data_iloc.tail())\n",
    "        \n",
    "        # Deslocamento de coluna com o método .shift(), dentro do mesmo intervalo de datas\n",
    "        shifted_data = process_data.shift_column(filtered_data_loc, 'Close', 1)\n",
    "        print(\"\\nExemplo de deslocamento de coluna usando.shift():\")\n",
    "        print(shifted_data.tail())\n",
    "    else:\n",
    "        print(\"Erro ao ler os dados.\")\n",
    "\n",
    "if __name__ == \"__main__\":\n",
    "    main()\n"
   ]
  }
 ],
 "metadata": {
  "kernelspec": {
   "display_name": "Python 3 (ipykernel)",
   "language": "python",
   "name": "python3"
  },
  "language_info": {
   "codemirror_mode": {
    "name": "ipython",
    "version": 3
   },
   "file_extension": ".py",
   "mimetype": "text/x-python",
   "name": "python",
   "nbconvert_exporter": "python",
   "pygments_lexer": "ipython3",
   "version": "3.11.5"
  }
 },
 "nbformat": 4,
 "nbformat_minor": 4
}
